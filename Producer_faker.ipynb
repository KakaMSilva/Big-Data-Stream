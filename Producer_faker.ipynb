{
 "cells": [
  {
   "cell_type": "code",
   "execution_count": 1,
   "id": "27dc0dfd",
   "metadata": {},
   "outputs": [],
   "source": [
    "from kafka import KafkaProducer\n",
    "from faker import Faker\n",
    "import json\n",
    "import time\n",
    "\n",
    "fake = Faker()\n",
    "\n",
    "#Função para criar dados (fake)\n",
    "def get_customer():\n",
    "    return {\n",
    "        'nome': fake.name(),\n",
    "        'profissao': fake.job(),\n",
    "        'endereco': fake.address(),\n",
    "        'nascimento': fake.year()\n",
    "    }\n",
    "\n",
    "SERVER = 'silva.michael-broker'\n",
    "PORT = '29092'\n",
    "TOPIC = 'faker'\n",
    "SERVER_INFO = SERVER+':'+PORT\n",
    "\n",
    "producer = KafkaProducer(bootstrap_servers=[SERVER_INFO],\n",
    "                         value_serializer=lambda x: json.dumps(x).encode('utf-8'))"
   ]
  },
  {
   "cell_type": "code",
   "execution_count": null,
   "id": "a590f955",
   "metadata": {},
   "outputs": [],
   "source": [
    "while True:\n",
    "    msg = get_customer()\n",
    "    #print(msg)\n",
    "    producer.send(TOPIC, msg)\n",
    "    time.sleep(1)"
   ]
  },
  {
   "cell_type": "code",
   "execution_count": null,
   "id": "4a01aebf",
   "metadata": {},
   "outputs": [],
   "source": []
  }
 ],
 "metadata": {
  "kernelspec": {
   "display_name": "Python 3 (ipykernel)",
   "language": "python",
   "name": "python3"
  },
  "language_info": {
   "codemirror_mode": {
    "name": "ipython",
    "version": 3
   },
   "file_extension": ".py",
   "mimetype": "text/x-python",
   "name": "python",
   "nbconvert_exporter": "python",
   "pygments_lexer": "ipython3",
   "version": "3.7.3"
  }
 },
 "nbformat": 4,
 "nbformat_minor": 5
}
