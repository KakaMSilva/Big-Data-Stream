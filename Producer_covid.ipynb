{
 "cells": [
  {
   "cell_type": "code",
   "execution_count": 1,
   "id": "010af71b",
   "metadata": {},
   "outputs": [],
   "source": [
    "from kafka import KafkaProducer\n",
    "import json\n",
    "import time\n",
    "\n",
    "\n",
    "SERVER = 'silva.michael-broker'\n",
    "PORT = '29092'\n",
    "TOPIC = 'covid'\n",
    "SERVER_INFO = SERVER+':'+PORT\n",
    "\n",
    "\n",
    "producer = KafkaProducer(bootstrap_servers=[SERVER_INFO],\n",
    "                         value_serializer=lambda x: json.dumps(x).encode('utf-8'))"
   ]
  },
  {
   "cell_type": "code",
   "execution_count": 2,
   "id": "00c964b1",
   "metadata": {},
   "outputs": [],
   "source": [
    "FILE = 'covid.csv'\n",
    "\n",
    "with open(FILE) as file_in:\n",
    "    for msg in file_in:\n",
    "        #print(msg)\n",
    "        producer.send(TOPIC, msg)\n",
    "        time.sleep(1)"
   ]
  },
  {
   "cell_type": "code",
   "execution_count": null,
   "id": "d69d971f",
   "metadata": {},
   "outputs": [],
   "source": []
  }
 ],
 "metadata": {
  "kernelspec": {
   "display_name": "Python 3 (ipykernel)",
   "language": "python",
   "name": "python3"
  },
  "language_info": {
   "codemirror_mode": {
    "name": "ipython",
    "version": 3
   },
   "file_extension": ".py",
   "mimetype": "text/x-python",
   "name": "python",
   "nbconvert_exporter": "python",
   "pygments_lexer": "ipython3",
   "version": "3.7.3"
  }
 },
 "nbformat": 4,
 "nbformat_minor": 5
}
